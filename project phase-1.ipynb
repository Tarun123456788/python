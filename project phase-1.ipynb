import mysql.connector as connector
import datetime as date
import logging
class Admin :
    name = 'Tharun timely insurance'
    dates1 = date.datetime.now()
    admin = 'Tharun'
    password = 'Tharun@123'
    General_insurance =80000
    Motor_insurance =40000
    Travel_insurance=70000
    Term_Life_insurance = 500000
    def __init__(self):
        self.con = connector.connect(host='localhost',
                                     user='root',
                                     password='Tharun@123',
                                     database='insurance')

    def showall_user(self):
            query = "select * from user"
            cur = self.con.cursor()
            cur.execute(query)
            for row in cur:
                print("UID  : ", row[0])
                print("name  : ", row[1])
                print("ADDRESS  : ", row[2])
                print("PHONE  : ", row[3])
                print("DOB  : ", row[4])
                print("INSUANCETYPE   : ", row[5])
                print("INSURANCE_AMOUNT   : ", row[6])
                print()
                print()

    def find_user(self, uid):
        query = "select * from user where uid={}".format(uid)
        cur = self.con.cursor()
        cur.execute(query)
        res = cur.fetchall()
        if res:
            for row in res:
                print("UID  : ", row[0])
                print("name  : ", row[1])
                print("ADDRESS  : ", row[2])
                print("PHONE  : ", row[3])
                print("DOB : ", row[4])
                print(" INSURANCE TYPE   : ", row[5])
                print(" INSURANCE AMOUNT  : ", row[6])
                print()
                print()
        else:
            print("user not found")

    def delete_user(self, uid):
        q = "select * from user where uid = {}".format(uid)
        curr = self.con.cursor()
        curr.execute(q)
        res = curr.fetchall()
        if res:
            query = "delete from user where uid = {}".format(uid)
            cur = self.con.cursor()
            cur.execute(query)
            res = cur.fetchone()
            self.con.commit()
            print("user is deleted ", self.dates1)
            print()
        else:
            print("cannot find user")

    def update_user(self, uid):
        q = "select * from user where uid = {}".format(uid)
        curr = self.con.cursor()
        curr.execute(q)
        res = curr.fetchall()
        if res:
            newName = input("enter new name : ").capitalize()
            while True:
                newphone = int(input('enter your phone number : '))
                if len(str(newphone)) > 10 or len(str(newphone)) < 10:
                    print("Invalid phone number ! please enter 10 digit only ")
                else:
                    break
            newaddress = input("enter newaddress : ").capitalize()
            query = "update user set uname = '{}' , phone = {} , uaddress = '{}' where uid = {} ".format(
                newName, newphone, newaddress, uid)
            cur = self.con.cursor()
            cur.execute(query)
            self.con.commit()
            print("Account details updated successfully  at ", self.dates1)
        else:
            print("user not found ")

    def deleteAlluser(self):
        query = "delete from user"
        curr = self.con.cursor()
        curr.execute(query)
        self.con.commit()
        print('user deleted!thank you ', self.dates1)
import mysql.connector as connector
import datetime as date
import logging

class User :

    dates1 = date.datetime.now()


    def __init__(self):

        self.con = connector.connect(host='localhost',
                                     user='root',
                                     password='Tharun@123',
                                     database='insurance')

    def create(self,uname,uaddress,phone,DOB,Insuancetype,insurance_amount ):
        query = "insert into user(uname,uaddress,phone,DOB,Insuancetype,insurance_amount)values('{}','{}',{},'{}','{}',{})".format(uname,uaddress,phone,DOB,Insuancetype,insurance_amount)
        curr = self.con.cursor()
        curr.execute(query)
        self.con.commit()
        print("Account created successfully at  " , self.dates1)

    def find_user(self, uid):
        query = "select * from user where uid={}".format(uid)
        cur = self.con.cursor()
        cur.execute(query)
        res = cur.fetchall()
        if res:
            for row in res:
                print("UID  : ", row[0])
                print("name  : ", row[1])
                print("ADDRESS  : ", row[2])
                print("PHONE  : ", row[3])
                print("DOB : ", row[4])
                print(" INSURANCE TYPE   : ", row[5])
                print(" INSURANCE AMOUNT  : ", row[6])
                print()
                print()
        else:
            print("cannot find account ")

    def delete_user(self, uid):
        q = "select * from user where uid = {}".format(uid)
        curr = self.con.cursor()
        curr.execute(q)
        res = curr.fetchall()
        if res:
            query = "delete from user where uid = {}".format(uid)
            cur = self.con.cursor()
            cur.execute(query)
            res = cur.fetchone()
            self.con.commit()
            print("Your Account is deleted Successfully at  ", self.dates1)
            print()
        else:
            print("Account not found please try again")

    def update_user(self, uid):
        q = "select * from user where uid = {}".format(uid)
        curr = self.con.cursor()
        curr.execute(q)
        res = curr.fetchall()
        if res:
            newName = input("enter newname : ").capitalize()
            while True:
                newphone = int(input('enter your phone number : '))
                if len(str(newphone)) > 10 or len(str(newphone)) < 10:
                    print("Invalid phone number ! please enter 10 digit only ")
                else:
                    break
            newaddress = input("enter newaddress : ").capitalize()
            query = "update user set uname = '{}' , phone = {} , uaddress = '{}' where uid = {} ".format(
                newName, newphone, newaddress, uid)
            cur = self.con.cursor()
            cur.execute(query)
            self.con.commit()
            print("Account details updated successfully  at ", self.dates1)
        else:
            print("Account doesn't exist")
import datetime as date

def main() :
    spl_char = ['.', '#''!', '@', '%', '^', '&', '/', '=', '?', '-', '$']
    print()
    print("  WELCOME TO " , Admin.name)
    helpher = User()
    admin = Admin()
    print()
    inp = input("please Tell us ur admin or user :  ")
    if inp == 'user':
        usr = input("click 1 if ur a new user  or 2 if ur an existing user ")
        if usr == '1':

         while True :

          print()
          print("CREATE NEW USER  ")

          try:
            while True:
                try:
                    spl_char = str(['.', '#''!', '@', '%', '^', '&', '/', '=', '?', '-', '$'])
                    name = input('please enter your name : ').capitalize()
                    if spl_char in name:
                        raise TypeError
                    break
                except TypeError as msg:
                    print("special character are not allowed like .., * % # $ @", msg)

            while True:
                phone = int(input('enter your 10 digit  phone number : '))
                if len(str(phone)) > 10 or len(str(phone)) < 10:
                    print("Invalid phone number ! please enter 10 digit only ")
                else:
                    break
            while True:
                try:
                    DOB = input('please enter you date of birth in DD/MM/YYYY format ')
                    DOB = date.datetime.strptime(DOB, "%d/%m/%y").date()
                    break
                except ValueError:
                    print("Please enter Date of birth in proper format !!! DD/MM/YYYY")

            Address = input('enter your address : ').capitalize()
            while True:
                print()
                print("enter type of insurance you want ")
                print("enter 1 for General insurance ")
                print("enter 2 for Motor insurance ")
                print("enter 3 for Travel insurance ")
                print("enter 4 for Term Life insurance ")
                choice = input("enter your insurance choice ")
                insurance_amt = 0
                insurance_type = ''
                if choice == '1':
                   insurance_amt = admin.health_insurance
                   insurance_type = 'General Insurance'.capitalize()
                   break
                elif choice  == '2'  :
                    insurance_amt = admin.family_insurance
                    insurance_type = 'Motor insurance'.capitalize()
                    break
                elif choice =='3':
                    insurance_amt = admin.accident_insurance
                    insurance_type = 'Travel insurance'.capitalize()
                    break
                elif choice == '4':
                    insurance_amt = admin.death_insurance
                    insurance_type = 'Term Lifeinsurance'.capitalize()
                    break
                else:
                    print("please enter correct insurance type ")
                    break
            helpher.create(name, Address, phone, DOB,insurance_type,insurance_amt )
            break
          except Exception as e:
            print(e)
            print("INVALID DETAILS ! TRY AGAIN")
        elif usr == '2':
           while True:
             print()
             print("Enter 1 to display your details   ")
             print("Enter 2 to delete your account  ")
             print("Enter 3 to update  your account  account ")
             print("Enter 4 to complete your operations ")
             print()
             try:
              choice = int(input("enter your choice to perform operations : "))

              if choice == 1:
                uid = int(input("please enter your account number to fetch your  information : "))
                helpher.find_user(uid)

              elif choice == 2:
                uid = int(input("please enter an account number to delete your account : "))
                helpher.delete_user(uid)


              elif choice == 3:
                cid = int(input("please enter account number to update your details "))
                helpher.update_user(cid)
              elif choice == 4:
                print('Thank you for using tharun secure banking ! Welcome back ')
                break
              else:
                print("Invalid input ! try again  ")
             except Exception as e:
               print(e)
               print('Invalid details ! Try again ')

    elif inp == 'admin':
       # while True:
         username = input('please enter username : ')
         password = input('pleasse enter password')
         if username != admin.admin and password != admin.password:
            print("please enter correct credentials ")
            # break
         else:

           while True:
            print()
            print("Enter 1 to display  all users  ")
            print("Enter 2 to display a specific user  ")
            print("Enter 3 to delete an  user ")
            print("Enter 4 to update  an  user ")
            print("Enter 5 to delete all users ")
            print("Enter 6 to complete an transactions ")
            print()
            try:
                choice = int(input('please enter your choice to perform operations '))

                if choice == 1:
                    admin.showall_user()
                elif choice == 2:
                    inp = int(input("please enter account number to fetch customer details : "))
                    admin.find_user(inp)
                elif choice == 3:
                    inp = int(input("please enter account number to delete customer  : "))
                    admin.delete_user(inp)
                elif choice == 4:
                    cid = int(input("please enter account number to update your details "))
                    admin.update_user(cid)
                elif choice == 5:
                    admin.deleteAlluser()
                elif choice == 6:
                    print("Thank you admin ! see you again ")
                    break
                    break
                else:
                    print("Invalid input ! try again ")
            except Exception as e:
                print(e)
                print("invalid input ! try again ")
    else:
      print("invalid input please enter user or admin ")

if __name__ == "__main__" :
   main()
